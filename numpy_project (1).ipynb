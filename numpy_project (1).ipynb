{
  "nbformat": 4,
  "nbformat_minor": 0,
  "metadata": {
    "colab": {
      "provenance": []
    },
    "kernelspec": {
      "name": "python3",
      "display_name": "Python 3"
    },
    "language_info": {
      "name": "python"
    }
  },
  "cells": [
    {
      "cell_type": "code",
      "execution_count": 1,
      "metadata": {
        "id": "-zJ0POmvj0IS"
      },
      "outputs": [],
      "source": [
        "import numpy as np"
      ]
    },
    {
      "cell_type": "markdown",
      "source": [
        "**Objective:\n",
        "You are working with student marks data and need to prepare and organize it using NumPy arrays.Your goal is to create,\n",
        " modify, and analyze the data efficiently without using any external libraries.\n",
        "\n",
        " **Project Description:\n",
        " A school has recorded the marks of several students in different subjects.You are required to design a NumPy-based solution\n",
        " to store, manage, and process this data.Your tasks involve creating arrays, changing their shapes, combining data, performing\n",
        " modifications, and analyzing patterns — all using NumPy.\n",
        "\n",
        " Project Tasks:"
      ],
      "metadata": {
        "id": "vYUnMgg2NDFk"
      }
    },
    {
      "cell_type": "markdown",
      "source": [
        "1. **Data Creation:**Create suitable arrays to represent students, subjects, and their marks."
      ],
      "metadata": {
        "id": "1ihgDJrKNTKB"
      }
    },
    {
      "cell_type": "code",
      "source": [
        "#1 data creation\n",
        "\n",
        "students=np.array([1,2,3,4])\n",
        "subjects=np.array([1,2,3])\n",
        "marks=np.array([[80,40,32],[70,82,36],[92,47,75],[85,32,47]])\n",
        "marks"
      ],
      "metadata": {
        "id": "Z2qTlsCfilFr",
        "outputId": "727c384f-cf0e-4904-c194-d511c8d1db28",
        "colab": {
          "base_uri": "https://localhost:8080/"
        }
      },
      "execution_count": null,
      "outputs": [
        {
          "output_type": "execute_result",
          "data": {
            "text/plain": [
              "array([[80, 40, 32],\n",
              "       [70, 82, 36],\n",
              "       [92, 47, 75],\n",
              "       [85, 32, 47]])"
            ]
          },
          "metadata": {},
          "execution_count": 6
        }
      ]
    },
    {
      "cell_type": "code",
      "source": [
        "marks[3][2]"
      ],
      "metadata": {
        "colab": {
          "base_uri": "https://localhost:8080/"
        },
        "id": "37DaD-lti63_",
        "outputId": "16dcf809-b3ee-42fe-8477-33cf034c77db"
      },
      "execution_count": null,
      "outputs": [
        {
          "output_type": "execute_result",
          "data": {
            "text/plain": [
              "np.int64(47)"
            ]
          },
          "metadata": {},
          "execution_count": 3
        }
      ]
    },
    {
      "cell_type": "markdown",
      "source": [
        "2 .**Data Exploration:**Explore the properties of these arrays — such as their dimensions, size, and structure."
      ],
      "metadata": {
        "id": "G3opJZrONcVd"
      }
    },
    {
      "cell_type": "code",
      "source": [
        "#2  data exploration\n",
        "\n",
        "students.ndim\n",
        "subjects.ndim\n",
        "marks.ndim"
      ],
      "metadata": {
        "colab": {
          "base_uri": "https://localhost:8080/"
        },
        "id": "GdKp_Sq9jBom",
        "outputId": "3b6e06e7-b175-456a-b95d-606870bd395c"
      },
      "execution_count": null,
      "outputs": [
        {
          "output_type": "execute_result",
          "data": {
            "text/plain": [
              "2"
            ]
          },
          "metadata": {},
          "execution_count": 5
        }
      ]
    },
    {
      "cell_type": "code",
      "source": [
        "students.size\n",
        "subjects.size\n",
        "marks.size\n"
      ],
      "metadata": {
        "colab": {
          "base_uri": "https://localhost:8080/"
        },
        "id": "wxJ1xl7rvP2k",
        "outputId": "89b6c10b-ef26-4bc4-b54c-5a927159d8b8"
      },
      "execution_count": null,
      "outputs": [
        {
          "output_type": "execute_result",
          "data": {
            "text/plain": [
              "12"
            ]
          },
          "metadata": {},
          "execution_count": 8
        }
      ]
    },
    {
      "cell_type": "code",
      "source": [
        "students.shape\n",
        "subjects.shape\n",
        "marks.shape\n"
      ],
      "metadata": {
        "colab": {
          "base_uri": "https://localhost:8080/"
        },
        "id": "4oS12W4wwa3j",
        "outputId": "8397140f-16d5-426f-b84c-6ddbf13d7f87"
      },
      "execution_count": null,
      "outputs": [
        {
          "output_type": "execute_result",
          "data": {
            "text/plain": [
              "(4, 3)"
            ]
          },
          "metadata": {},
          "execution_count": 10
        }
      ]
    },
    {
      "cell_type": "markdown",
      "source": [
        "3.** Data Transformation:**Perform necessary reshaping and reorganization of the data to suit various operations."
      ],
      "metadata": {
        "id": "TgVIGFg3NqNI"
      }
    },
    {
      "cell_type": "code",
      "source": [
        "#3 data transformation\n",
        "\n",
        "flat_marks=marks.flatten()\n",
        "flat_marks"
      ],
      "metadata": {
        "colab": {
          "base_uri": "https://localhost:8080/"
        },
        "id": "_aekUn1HwcI8",
        "outputId": "878f98e4-b6cb-4476-c456-d6ae6f7fdcdb"
      },
      "execution_count": null,
      "outputs": [
        {
          "output_type": "execute_result",
          "data": {
            "text/plain": [
              "array([80, 40, 32, 70, 82, 36, 92, 47, 75, 85, 32, 47])"
            ]
          },
          "metadata": {},
          "execution_count": 11
        }
      ]
    },
    {
      "cell_type": "code",
      "source": [
        "reshaped_marks=marks.reshape(3,4)\n",
        "reshaped_marks\n"
      ],
      "metadata": {
        "colab": {
          "base_uri": "https://localhost:8080/"
        },
        "id": "0svcvDu3w-c3",
        "outputId": "56f46d2a-65c3-4116-a203-59b30242e15f"
      },
      "execution_count": null,
      "outputs": [
        {
          "output_type": "execute_result",
          "data": {
            "text/plain": [
              "array([[80, 40, 32, 70],\n",
              "       [82, 36, 92, 47],\n",
              "       [75, 85, 32, 47]])"
            ]
          },
          "metadata": {},
          "execution_count": 13
        }
      ]
    },
    {
      "cell_type": "code",
      "source": [
        "transposed=marks.T\n",
        "transposed"
      ],
      "metadata": {
        "colab": {
          "base_uri": "https://localhost:8080/"
        },
        "id": "8rP127qYxArU",
        "outputId": "547d7ac1-8cee-4e42-b3d1-0c53e4b0c085"
      },
      "execution_count": null,
      "outputs": [
        {
          "output_type": "execute_result",
          "data": {
            "text/plain": [
              "array([[80, 70, 92, 85],\n",
              "       [40, 82, 47, 32],\n",
              "       [32, 36, 75, 47]])"
            ]
          },
          "metadata": {},
          "execution_count": 14
        }
      ]
    },
    {
      "cell_type": "markdown",
      "source": [
        "4. **Data Combination:**Merge or split arrays to simulate adding new students, new subjects, or reorganizing the dataset"
      ],
      "metadata": {
        "id": "NcH0j5cHN0e9"
      }
    },
    {
      "cell_type": "code",
      "source": [
        "#4 data combination\n",
        "\n",
        "split_marks=np.split(marks,2)\n",
        "split_marks"
      ],
      "metadata": {
        "colab": {
          "base_uri": "https://localhost:8080/"
        },
        "id": "Bhp5SPwxxkVo",
        "outputId": "87ee9e4d-0b03-46ae-caf1-ed919d1feea8"
      },
      "execution_count": null,
      "outputs": [
        {
          "output_type": "execute_result",
          "data": {
            "text/plain": [
              "[array([[80, 40, 32],\n",
              "        [70, 82, 36]]),\n",
              " array([[92, 47, 75],\n",
              "        [85, 32, 47]])]"
            ]
          },
          "metadata": {},
          "execution_count": 16
        }
      ]
    },
    {
      "cell_type": "code",
      "source": [
        "split_subjects=np.split(subjects,3)\n",
        "split_subjects"
      ],
      "metadata": {
        "colab": {
          "base_uri": "https://localhost:8080/"
        },
        "id": "sKdMBgMCxmTP",
        "outputId": "77f632f7-edea-4e56-ed19-d84ec439df31"
      },
      "execution_count": null,
      "outputs": [
        {
          "output_type": "execute_result",
          "data": {
            "text/plain": [
              "[array([1]), array([2]), array([3])]"
            ]
          },
          "metadata": {},
          "execution_count": 17
        }
      ]
    },
    {
      "cell_type": "code",
      "source": [
        "split_students=np.split(students,2)\n",
        "split_students"
      ],
      "metadata": {
        "colab": {
          "base_uri": "https://localhost:8080/"
        },
        "id": "d4MLiXh5x1Yu",
        "outputId": "5c29b8e8-9b57-40de-dd30-35e8fbc2c430"
      },
      "execution_count": null,
      "outputs": [
        {
          "output_type": "execute_result",
          "data": {
            "text/plain": [
              "[array([1, 2]), array([3, 4])]"
            ]
          },
          "metadata": {},
          "execution_count": 18
        }
      ]
    },
    {
      "cell_type": "markdown",
      "source": [
        "5. Data Modification:*Apply operations to update marks, remove data, or identify unique information."
      ],
      "metadata": {
        "id": "Dz6GNy-5N8iY"
      }
    },
    {
      "cell_type": "code",
      "source": [
        "#5 data modification\n",
        "#updating\n",
        "marks[1,0]=85\n",
        "marks\n"
      ],
      "metadata": {
        "colab": {
          "base_uri": "https://localhost:8080/"
        },
        "id": "zCIbpiA2yX-I",
        "outputId": "8650b6ef-d302-4c2a-c0b4-f38f75b705f5"
      },
      "execution_count": null,
      "outputs": [
        {
          "output_type": "execute_result",
          "data": {
            "text/plain": [
              "array([[80, 40, 32],\n",
              "       [85, 82, 36],\n",
              "       [92, 47, 75],\n",
              "       [85, 32, 47]])"
            ]
          },
          "metadata": {},
          "execution_count": 20
        }
      ]
    },
    {
      "cell_type": "code",
      "source": [
        "marks[3,2]=0\n",
        "marks"
      ],
      "metadata": {
        "colab": {
          "base_uri": "https://localhost:8080/"
        },
        "id": "h63bBYKlyaMq",
        "outputId": "c7e61d4d-3904-4fbe-fd89-7c0c02766cf1"
      },
      "execution_count": null,
      "outputs": [
        {
          "output_type": "execute_result",
          "data": {
            "text/plain": [
              "array([[80, 40, 32],\n",
              "       [85, 82, 36],\n",
              "       [92, 47, 75],\n",
              "       [85, 32,  0]])"
            ]
          },
          "metadata": {},
          "execution_count": 21
        }
      ]
    },
    {
      "cell_type": "code",
      "source": [
        "#removing data\n",
        "marks=np.delete(students,2)\n",
        "marks\n"
      ],
      "metadata": {
        "colab": {
          "base_uri": "https://localhost:8080/"
        },
        "id": "aDpfEWUoy3gd",
        "outputId": "a743a588-72be-4544-d5bc-3429f17ef8cf"
      },
      "execution_count": null,
      "outputs": [
        {
          "output_type": "execute_result",
          "data": {
            "text/plain": [
              "array([1, 2, 4])"
            ]
          },
          "metadata": {},
          "execution_count": 23
        }
      ]
    },
    {
      "cell_type": "code",
      "source": [
        "#unique\n",
        "unique_marks=np.unique(marks)\n",
        "unique_marks"
      ],
      "metadata": {
        "colab": {
          "base_uri": "https://localhost:8080/"
        },
        "id": "Rf_Z-xJ0zN2I",
        "outputId": "a729392a-b229-4a00-f89d-c87cb420a1da"
      },
      "execution_count": null,
      "outputs": [
        {
          "output_type": "execute_result",
          "data": {
            "text/plain": [
              "array([1, 2, 4])"
            ]
          },
          "metadata": {},
          "execution_count": 28
        }
      ]
    },
    {
      "cell_type": "markdown",
      "source": [
        "6. *Data Type Handling:*Demonstrate how the same data can exist in different data types and how changes affect results."
      ],
      "metadata": {
        "id": "e9dgSBf8OEat"
      }
    },
    {
      "cell_type": "code",
      "source": [
        "marks_float=marks.astype(dtype=float)\n",
        "print(marks_float)"
      ],
      "metadata": {
        "colab": {
          "base_uri": "https://localhost:8080/",
          "height": 158
        },
        "id": "d9zDB9FmOMoG",
        "outputId": "293c28f0-3f61-4a27-b932-666d5c732e3a"
      },
      "execution_count": 8,
      "outputs": [
        {
          "output_type": "error",
          "ename": "NameError",
          "evalue": "name 'marks' is not defined",
          "traceback": [
            "\u001b[0;31m---------------------------------------------------------------------------\u001b[0m",
            "\u001b[0;31mNameError\u001b[0m                                 Traceback (most recent call last)",
            "\u001b[0;32m/tmp/ipython-input-690223064.py\u001b[0m in \u001b[0;36m<cell line: 0>\u001b[0;34m()\u001b[0m\n\u001b[0;32m----> 1\u001b[0;31m \u001b[0mmarks_float\u001b[0m\u001b[0;34m=\u001b[0m\u001b[0mmarks\u001b[0m\u001b[0;34m.\u001b[0m\u001b[0mastype\u001b[0m\u001b[0;34m(\u001b[0m\u001b[0mdtype\u001b[0m\u001b[0;34m=\u001b[0m\u001b[0mfloat\u001b[0m\u001b[0;34m)\u001b[0m\u001b[0;34m\u001b[0m\u001b[0;34m\u001b[0m\u001b[0m\n\u001b[0m\u001b[1;32m      2\u001b[0m \u001b[0mprint\u001b[0m\u001b[0;34m(\u001b[0m\u001b[0mmarks_float\u001b[0m\u001b[0;34m)\u001b[0m\u001b[0;34m\u001b[0m\u001b[0;34m\u001b[0m\u001b[0m\n",
            "\u001b[0;31mNameError\u001b[0m: name 'marks' is not defined"
          ]
        }
      ]
    },
    {
      "cell_type": "markdown",
      "source": [
        "7. *Copy and View Behavior:*Show the difference between creating a full copy of an array and creating a view of the same data."
      ],
      "metadata": {
        "id": "AAtpsDtXQqUO"
      }
    },
    {
      "cell_type": "code",
      "source": [
        "marks_view=marks.view()\n",
        "marks_view[0,0]=100\n",
        "print(\"viewed msrks:\",marks_view)\n",
        "print(\"original:\",marks)"
      ],
      "metadata": {
        "colab": {
          "base_uri": "https://localhost:8080/",
          "height": 193
        },
        "id": "6oTCCHcfPuUE",
        "outputId": "9c84478f-9ace-44ab-ef5b-84d2da37164b"
      },
      "execution_count": 9,
      "outputs": [
        {
          "output_type": "error",
          "ename": "NameError",
          "evalue": "name 'marks' is not defined",
          "traceback": [
            "\u001b[0;31m---------------------------------------------------------------------------\u001b[0m",
            "\u001b[0;31mNameError\u001b[0m                                 Traceback (most recent call last)",
            "\u001b[0;32m/tmp/ipython-input-4026971331.py\u001b[0m in \u001b[0;36m<cell line: 0>\u001b[0;34m()\u001b[0m\n\u001b[0;32m----> 1\u001b[0;31m \u001b[0mmarks_view\u001b[0m\u001b[0;34m=\u001b[0m\u001b[0mmarks\u001b[0m\u001b[0;34m.\u001b[0m\u001b[0mview\u001b[0m\u001b[0;34m(\u001b[0m\u001b[0;34m)\u001b[0m\u001b[0;34m\u001b[0m\u001b[0;34m\u001b[0m\u001b[0m\n\u001b[0m\u001b[1;32m      2\u001b[0m \u001b[0mmarks_view\u001b[0m\u001b[0;34m[\u001b[0m\u001b[0;36m0\u001b[0m\u001b[0;34m,\u001b[0m\u001b[0;36m0\u001b[0m\u001b[0;34m]\u001b[0m\u001b[0;34m=\u001b[0m\u001b[0;36m100\u001b[0m\u001b[0;34m\u001b[0m\u001b[0;34m\u001b[0m\u001b[0m\n\u001b[1;32m      3\u001b[0m \u001b[0mprint\u001b[0m\u001b[0;34m(\u001b[0m\u001b[0;34m\"viewed msrks:\"\u001b[0m\u001b[0;34m,\u001b[0m\u001b[0mmarks_view\u001b[0m\u001b[0;34m)\u001b[0m\u001b[0;34m\u001b[0m\u001b[0;34m\u001b[0m\u001b[0m\n\u001b[1;32m      4\u001b[0m \u001b[0mprint\u001b[0m\u001b[0;34m(\u001b[0m\u001b[0;34m\"original:\"\u001b[0m\u001b[0;34m,\u001b[0m\u001b[0mmarks\u001b[0m\u001b[0;34m)\u001b[0m\u001b[0;34m\u001b[0m\u001b[0;34m\u001b[0m\u001b[0m\n",
            "\u001b[0;31mNameError\u001b[0m: name 'marks' is not defined"
          ]
        }
      ]
    }
  ]
}